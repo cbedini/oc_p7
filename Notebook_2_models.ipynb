{
 "cells": [
  {
   "cell_type": "markdown",
   "id": "db83ff83",
   "metadata": {
    "toc": true
   },
   "source": [
    "<h1>Table of Contents<span class=\"tocSkip\"></span></h1>\n",
    "<div class=\"toc\"><ul class=\"toc-item\"><li><span><a href=\"#Import\" data-toc-modified-id=\"Import-1\"><span class=\"toc-item-num\">1&nbsp;&nbsp;</span>Import</a></span><ul class=\"toc-item\"><li><span><a href=\"#Outils\" data-toc-modified-id=\"Outils-1.1\"><span class=\"toc-item-num\">1.1&nbsp;&nbsp;</span>Outils</a></span></li><li><span><a href=\"#Lecture-du-dataframe\" data-toc-modified-id=\"Lecture-du-dataframe-1.2\"><span class=\"toc-item-num\">1.2&nbsp;&nbsp;</span>Lecture du dataframe</a></span></li></ul></li><li><span><a href=\"#Choix-d'un-modèle\" data-toc-modified-id=\"Choix-d'un-modèle-2\"><span class=\"toc-item-num\">2&nbsp;&nbsp;</span>Choix d'un modèle</a></span><ul class=\"toc-item\"><li><span><a href=\"#Roc-auc\" data-toc-modified-id=\"Roc-auc-2.1\"><span class=\"toc-item-num\">2.1&nbsp;&nbsp;</span>Roc auc</a></span><ul class=\"toc-item\"><li><span><a href=\"#split-des-données-en-Train-et-Test\" data-toc-modified-id=\"split-des-données-en-Train-et-Test-2.1.1\"><span class=\"toc-item-num\">2.1.1&nbsp;&nbsp;</span>split des données en Train et Test</a></span></li><li><span><a href=\"#Plot-de-la-courbe-ROC-pour-les-différents-modèles-testés\" data-toc-modified-id=\"Plot-de-la-courbe-ROC-pour-les-différents-modèles-testés-2.1.2\"><span class=\"toc-item-num\">2.1.2&nbsp;&nbsp;</span>Plot de la courbe ROC pour les différents modèles testés</a></span></li></ul></li></ul></li><li><span><a href=\"#Bibliography\" data-toc-modified-id=\"Bibliography-3\"><span class=\"toc-item-num\">3&nbsp;&nbsp;</span>Bibliography</a></span></li></ul></div>"
   ]
  },
  {
   "cell_type": "markdown",
   "id": "e52d1fec",
   "metadata": {},
   "source": [
    "# Import\n"
   ]
  },
  {
   "cell_type": "code",
   "execution_count": 20,
   "id": "aaf8d0dd",
   "metadata": {},
   "outputs": [],
   "source": [
    "import numpy as np\n",
    "import pandas as pd\n",
    "import gc\n",
    "import time\n",
    "import re\n",
    "from contextlib import contextmanager\n",
    "from lightgbm import LGBMClassifier\n",
    "\n",
    "from sklearn.ensemble import RandomForestClassifier\n",
    "from sklearn.linear_model import LogisticRegression\n",
    "from sklearn.neighbors import KNeighborsClassifier\n",
    "from sklearn.dummy import DummyClassifier\n",
    "\n",
    "from sklearn.metrics import roc_auc_score, roc_curve, auc\n",
    "from sklearn.model_selection import KFold, StratifiedKFold\n",
    "from sklearn.pipeline import Pipeline\n",
    "from sklearn.impute import SimpleImputer\n",
    "from sklearn.preprocessing import RobustScaler\n",
    "\n",
    "import matplotlib.pyplot as plt\n",
    "import seaborn as sns\n",
    "import warnings\n",
    "warnings.simplefilter(action='ignore', category=FutureWarning)\n",
    "\n",
    "import joblib\n",
    "import mlflow.sklearn\n",
    "\n"
   ]
  },
  {
   "cell_type": "markdown",
   "id": "526c6e1c",
   "metadata": {},
   "source": [
    "## Outils"
   ]
  },
  {
   "cell_type": "code",
   "execution_count": 2,
   "id": "98db327b",
   "metadata": {},
   "outputs": [],
   "source": [
    "@contextmanager\n",
    "def timer(title):\n",
    "    t0 = time.time()\n",
    "    yield\n",
    "    print(\"{} - done in {:.0f}s\".format(title, time.time() - t0))\n"
   ]
  },
  {
   "cell_type": "code",
   "execution_count": 5,
   "id": "9b483389",
   "metadata": {},
   "outputs": [],
   "source": [
    "def readdf(debug=True):\n",
    "    savedataframe = \"debugdataframe.csv\" if debug else \"apidataframe.csv\"\n",
    "    df = pd.read_csv(savedataframe)\n",
    "    print(\"Reading\",savedataframe)\n",
    "    print(\"Shape\",df.shape)\n",
    "    return df"
   ]
  },
  {
   "cell_type": "markdown",
   "id": "52700288",
   "metadata": {},
   "source": [
    "## Lecture du dataframe"
   ]
  },
  {
   "cell_type": "code",
   "execution_count": 6,
   "id": "cd165424",
   "metadata": {},
   "outputs": [
    {
     "name": "stdout",
     "output_type": "stream",
     "text": [
      "Reading debugdataframe.csv\n",
      "Shape (20000, 768)\n"
     ]
    },
    {
     "data": {
      "text/html": [
       "<div>\n",
       "<style scoped>\n",
       "    .dataframe tbody tr th:only-of-type {\n",
       "        vertical-align: middle;\n",
       "    }\n",
       "\n",
       "    .dataframe tbody tr th {\n",
       "        vertical-align: top;\n",
       "    }\n",
       "\n",
       "    .dataframe thead th {\n",
       "        text-align: right;\n",
       "    }\n",
       "</style>\n",
       "<table border=\"1\" class=\"dataframe\">\n",
       "  <thead>\n",
       "    <tr style=\"text-align: right;\">\n",
       "      <th></th>\n",
       "      <th>index</th>\n",
       "      <th>SK_ID_CURR</th>\n",
       "      <th>TARGET</th>\n",
       "      <th>CODE_GENDER</th>\n",
       "      <th>FLAG_OWN_CAR</th>\n",
       "      <th>FLAG_OWN_REALTY</th>\n",
       "      <th>CNT_CHILDREN</th>\n",
       "      <th>AMT_INCOME_TOTAL</th>\n",
       "      <th>AMT_CREDIT</th>\n",
       "      <th>AMT_ANNUITY</th>\n",
       "      <th>...</th>\n",
       "      <th>CC_NAME_CONTRACT_STATUS_Signed_MAX</th>\n",
       "      <th>CC_NAME_CONTRACT_STATUS_Signed_MEAN</th>\n",
       "      <th>CC_NAME_CONTRACT_STATUS_Signed_SUM</th>\n",
       "      <th>CC_NAME_CONTRACT_STATUS_Signed_VAR</th>\n",
       "      <th>CC_NAME_CONTRACT_STATUS_nan_MIN</th>\n",
       "      <th>CC_NAME_CONTRACT_STATUS_nan_MAX</th>\n",
       "      <th>CC_NAME_CONTRACT_STATUS_nan_MEAN</th>\n",
       "      <th>CC_NAME_CONTRACT_STATUS_nan_SUM</th>\n",
       "      <th>CC_NAME_CONTRACT_STATUS_nan_VAR</th>\n",
       "      <th>CC_COUNT</th>\n",
       "    </tr>\n",
       "  </thead>\n",
       "  <tbody>\n",
       "    <tr>\n",
       "      <th>0</th>\n",
       "      <td>0</td>\n",
       "      <td>100002</td>\n",
       "      <td>1.0</td>\n",
       "      <td>0</td>\n",
       "      <td>0</td>\n",
       "      <td>0</td>\n",
       "      <td>0</td>\n",
       "      <td>202500.0</td>\n",
       "      <td>406597.5</td>\n",
       "      <td>24700.5</td>\n",
       "      <td>...</td>\n",
       "      <td>NaN</td>\n",
       "      <td>NaN</td>\n",
       "      <td>NaN</td>\n",
       "      <td>NaN</td>\n",
       "      <td>NaN</td>\n",
       "      <td>NaN</td>\n",
       "      <td>NaN</td>\n",
       "      <td>NaN</td>\n",
       "      <td>NaN</td>\n",
       "      <td>NaN</td>\n",
       "    </tr>\n",
       "    <tr>\n",
       "      <th>1</th>\n",
       "      <td>1</td>\n",
       "      <td>100003</td>\n",
       "      <td>0.0</td>\n",
       "      <td>1</td>\n",
       "      <td>0</td>\n",
       "      <td>1</td>\n",
       "      <td>0</td>\n",
       "      <td>270000.0</td>\n",
       "      <td>1293502.5</td>\n",
       "      <td>35698.5</td>\n",
       "      <td>...</td>\n",
       "      <td>NaN</td>\n",
       "      <td>NaN</td>\n",
       "      <td>NaN</td>\n",
       "      <td>NaN</td>\n",
       "      <td>NaN</td>\n",
       "      <td>NaN</td>\n",
       "      <td>NaN</td>\n",
       "      <td>NaN</td>\n",
       "      <td>NaN</td>\n",
       "      <td>NaN</td>\n",
       "    </tr>\n",
       "    <tr>\n",
       "      <th>2</th>\n",
       "      <td>2</td>\n",
       "      <td>100004</td>\n",
       "      <td>0.0</td>\n",
       "      <td>0</td>\n",
       "      <td>1</td>\n",
       "      <td>0</td>\n",
       "      <td>0</td>\n",
       "      <td>67500.0</td>\n",
       "      <td>135000.0</td>\n",
       "      <td>6750.0</td>\n",
       "      <td>...</td>\n",
       "      <td>NaN</td>\n",
       "      <td>NaN</td>\n",
       "      <td>NaN</td>\n",
       "      <td>NaN</td>\n",
       "      <td>NaN</td>\n",
       "      <td>NaN</td>\n",
       "      <td>NaN</td>\n",
       "      <td>NaN</td>\n",
       "      <td>NaN</td>\n",
       "      <td>NaN</td>\n",
       "    </tr>\n",
       "  </tbody>\n",
       "</table>\n",
       "<p>3 rows × 768 columns</p>\n",
       "</div>"
      ],
      "text/plain": [
       "   index  SK_ID_CURR  TARGET  CODE_GENDER  FLAG_OWN_CAR  FLAG_OWN_REALTY  \\\n",
       "0      0      100002     1.0            0             0                0   \n",
       "1      1      100003     0.0            1             0                1   \n",
       "2      2      100004     0.0            0             1                0   \n",
       "\n",
       "   CNT_CHILDREN  AMT_INCOME_TOTAL  AMT_CREDIT  AMT_ANNUITY  ...  \\\n",
       "0             0          202500.0    406597.5      24700.5  ...   \n",
       "1             0          270000.0   1293502.5      35698.5  ...   \n",
       "2             0           67500.0    135000.0       6750.0  ...   \n",
       "\n",
       "   CC_NAME_CONTRACT_STATUS_Signed_MAX  CC_NAME_CONTRACT_STATUS_Signed_MEAN  \\\n",
       "0                                 NaN                                  NaN   \n",
       "1                                 NaN                                  NaN   \n",
       "2                                 NaN                                  NaN   \n",
       "\n",
       "   CC_NAME_CONTRACT_STATUS_Signed_SUM  CC_NAME_CONTRACT_STATUS_Signed_VAR  \\\n",
       "0                                 NaN                                 NaN   \n",
       "1                                 NaN                                 NaN   \n",
       "2                                 NaN                                 NaN   \n",
       "\n",
       "   CC_NAME_CONTRACT_STATUS_nan_MIN  CC_NAME_CONTRACT_STATUS_nan_MAX  \\\n",
       "0                              NaN                              NaN   \n",
       "1                              NaN                              NaN   \n",
       "2                              NaN                              NaN   \n",
       "\n",
       "   CC_NAME_CONTRACT_STATUS_nan_MEAN  CC_NAME_CONTRACT_STATUS_nan_SUM  \\\n",
       "0                               NaN                              NaN   \n",
       "1                               NaN                              NaN   \n",
       "2                               NaN                              NaN   \n",
       "\n",
       "   CC_NAME_CONTRACT_STATUS_nan_VAR  CC_COUNT  \n",
       "0                              NaN       NaN  \n",
       "1                              NaN       NaN  \n",
       "2                              NaN       NaN  \n",
       "\n",
       "[3 rows x 768 columns]"
      ]
     },
     "execution_count": 6,
     "metadata": {},
     "output_type": "execute_result"
    }
   ],
   "source": [
    "df=readdf()\n",
    "df.head(3)"
   ]
  },
  {
   "cell_type": "markdown",
   "id": "f2f20174",
   "metadata": {},
   "source": [
    "# Choix d'un modèle\n",
    "\n",
    "Je compare le LGBMClassifier avec d'autres classifiers.\n"
   ]
  },
  {
   "cell_type": "code",
   "execution_count": 34,
   "id": "84ae9413",
   "metadata": {},
   "outputs": [],
   "source": [
    "classifiers = { 'Dummy Classifier': DummyClassifier(),\n",
    "                'Logistic Regression': LogisticRegression(),\n",
    "                'K Neighbors': KNeighborsClassifier(),\n",
    "                'Random Forest': RandomForestClassifier(),\n",
    "                'LGBM': LGBMClassifier()\n",
    "              }"
   ]
  },
  {
   "cell_type": "markdown",
   "id": "1a7dc0b0",
   "metadata": {},
   "source": [
    "Pour les autres classifiers if faut imputer et scaler les données"
   ]
  },
  {
   "cell_type": "code",
   "execution_count": 35,
   "id": "fb770d27",
   "metadata": {},
   "outputs": [],
   "source": [
    "preprocess  = Pipeline([\n",
    "    ('imputer', SimpleImputer(strategy='median')),\n",
    "    ('scaler', RobustScaler()),\n",
    "])"
   ]
  },
  {
   "cell_type": "markdown",
   "id": "fd8f962b",
   "metadata": {},
   "source": [
    "## Roc auc\n",
    "\n",
    "The Receiver Operating Characteristic (ROC) curve graphs the true positive rate versus the false positive rate:\n",
    "\n",
    "A single line on the graph indicates the curve for a single model, and movement along a line indicates changing the threshold used for classifying a positive instance. The threshold starts at 0 in the upper right to and goes to 1 in the lower left. A curve that is to the left and above another curve indicates a better model. For example, the blue model is better than the red model, which is better than the black diagonal line which indicates a naive random guessing model.\n",
    "\n",
    "The Area Under the Curve (AUC) explains itself by its name! It is simply the area under the ROC curve. (This is the integral of the curve.) This metric is between 0 and 1 with a better model scoring higher. A model that simply guesses at random will have an ROC AUC of 0.5.\n",
    "\n",
    "When we measure a classifier according to the ROC AUC, we do not generation 0 or 1 predictions, but rather a probability between 0 and 1.\n",
    "\n",
    "https://scikit-learn.org/stable/auto_examples/model_selection/plot_roc_crossval.html"
   ]
  },
  {
   "attachments": {},
   "cell_type": "markdown",
   "id": "2f603fcc",
   "metadata": {},
   "source": [
    "### split des données en Train et Test\n"
   ]
  },
  {
   "cell_type": "code",
   "execution_count": 14,
   "id": "f7165dff",
   "metadata": {},
   "outputs": [],
   "source": [
    "def prepare_train_df(df):\n",
    "    train_df = df[df['TARGET'].notnull()]\n",
    "    test_df = df[df['TARGET'].isnull()]\n",
    "    del df\n",
    "    gc.collect()\n",
    "    feats = [f for f in train_df.columns if f not in ['TARGET','SK_ID_CURR','SK_ID_BUREAU','SK_ID_PREV','index']]\n",
    "    train_x, train_y = train_df[feats], train_df['TARGET']\n",
    "    return train_x, train_y\n"
   ]
  },
  {
   "cell_type": "code",
   "execution_count": 17,
   "id": "a1511508",
   "metadata": {},
   "outputs": [],
   "source": [
    "X,y = prepare_train_df(df)\n"
   ]
  },
  {
   "cell_type": "markdown",
   "id": "4ef8549d",
   "metadata": {},
   "source": [
    "### Plot de la courbe ROC pour les différents modèles testés"
   ]
  },
  {
   "cell_type": "code",
   "execution_count": 36,
   "id": "b86b9aae",
   "metadata": {},
   "outputs": [],
   "source": [
    "def plot_roc_curve(classifiers, preprocessor, X, y, n_splits=10, fit=True):\n",
    "\n",
    "    kf = KFold(n_splits=n_splits)    \n",
    "    for clf_name, classifier in classifiers.items():\n",
    "        print('Testing',clf_name)\n",
    "        tprs = []\n",
    "        aucs = []\n",
    "        mean_fpr = np.linspace(0, 1, 100)\n",
    "        for i, (train, test) in enumerate(kf.split(X, y)):\n",
    "\n",
    "            pipeline = Pipeline(\n",
    "                    [\n",
    "                     ('preprocessing', preprocessor),\n",
    "                     ('clf', classifier)\n",
    "                    ]\n",
    "            )\n",
    "            \n",
    "            if fit :\n",
    "                pipeline.fit(X.iloc[train, :], y.iloc[train])\n",
    "\n",
    "            y_pred_grd = pipeline.predict_proba(X.iloc[test, :])[:, 1]\n",
    "            fpr, tpr, _ = roc_curve(y.iloc[test], y_pred_grd)\n",
    "\n",
    "            interp_tpr = np.interp(mean_fpr, fpr, tpr)\n",
    "            interp_tpr[0] = 0.0\n",
    "            tprs.append(interp_tpr)\n",
    "            auc_ = auc(fpr, tpr)\n",
    "            print(' Auc fold',i,\":\",auc_)\n",
    "            aucs.append(auc_)\n",
    "\n",
    "        mean_tpr = np.mean(tprs, axis=0)\n",
    "        mean_tpr[-1] = 1.0\n",
    "        mean_auc = auc(mean_fpr, mean_tpr)\n",
    "        std_auc = np.std(aucs)\n",
    "        plt.plot(mean_fpr, mean_tpr,\n",
    "            label=clf_name + r' (AUC = %0.2f $\\pm$ %0.2f)' % (mean_auc, std_auc),\n",
    "            lw=2,\n",
    "            alpha=.8)\n",
    "\n",
    "    plt.plot([0, 1], [0, 1], color='navy', lw=2, linestyle='--')\n",
    "    plt.xlim([0.0, 1.0])\n",
    "    plt.ylim([0.0, 1.05])\n",
    "    plt.xlabel('False Positive Rate')\n",
    "    plt.ylabel('True Positive Rate')\n",
    "    plt.title('Receiver operating characteristic example')\n",
    "    plt.legend(loc=\"lower right\")\n",
    "    plt.show()\n"
   ]
  },
  {
   "cell_type": "code",
   "execution_count": 37,
   "id": "68bd63b1",
   "metadata": {
    "scrolled": false
   },
   "outputs": [
    {
     "name": "stdout",
     "output_type": "stream",
     "text": [
      "Testing Dummy Classifier\n",
      " Auc fold 0 : 0.5\n",
      " Auc fold 1 : 0.5\n",
      " Auc fold 2 : 0.5\n",
      " Auc fold 3 : 0.5\n",
      " Auc fold 4 : 0.5\n",
      " Auc fold 5 : 0.5\n",
      " Auc fold 6 : 0.5\n",
      " Auc fold 7 : 0.5\n",
      " Auc fold 8 : 0.5\n",
      " Auc fold 9 : 0.5\n",
      "Testing Logistic Regression\n"
     ]
    },
    {
     "name": "stderr",
     "output_type": "stream",
     "text": [
      "/Users/mcBedini/opt/anaconda3/lib/python3.9/site-packages/sklearn/linear_model/_logistic.py:444: ConvergenceWarning: lbfgs failed to converge (status=1):\n",
      "STOP: TOTAL NO. of ITERATIONS REACHED LIMIT.\n",
      "\n",
      "Increase the number of iterations (max_iter) or scale the data as shown in:\n",
      "    https://scikit-learn.org/stable/modules/preprocessing.html\n",
      "Please also refer to the documentation for alternative solver options:\n",
      "    https://scikit-learn.org/stable/modules/linear_model.html#logistic-regression\n",
      "  n_iter_i = _check_optimize_result(\n"
     ]
    },
    {
     "name": "stdout",
     "output_type": "stream",
     "text": [
      " Auc fold 0 : 0.5530414746543779\n",
      " Auc fold 1 : 0.5016216216216216\n",
      " Auc fold 2 : 0.5046447040796782\n",
      " Auc fold 3 : 0.5251638412802192\n",
      " Auc fold 4 : 0.4849864130434783\n"
     ]
    },
    {
     "name": "stderr",
     "output_type": "stream",
     "text": [
      "/Users/mcBedini/opt/anaconda3/lib/python3.9/site-packages/sklearn/linear_model/_logistic.py:444: ConvergenceWarning: lbfgs failed to converge (status=1):\n",
      "STOP: TOTAL NO. of ITERATIONS REACHED LIMIT.\n",
      "\n",
      "Increase the number of iterations (max_iter) or scale the data as shown in:\n",
      "    https://scikit-learn.org/stable/modules/preprocessing.html\n",
      "Please also refer to the documentation for alternative solver options:\n",
      "    https://scikit-learn.org/stable/modules/linear_model.html#logistic-regression\n",
      "  n_iter_i = _check_optimize_result(\n"
     ]
    },
    {
     "name": "stdout",
     "output_type": "stream",
     "text": [
      " Auc fold 5 : 0.5279353690416597\n"
     ]
    },
    {
     "name": "stderr",
     "output_type": "stream",
     "text": [
      "/Users/mcBedini/opt/anaconda3/lib/python3.9/site-packages/sklearn/linear_model/_logistic.py:444: ConvergenceWarning: lbfgs failed to converge (status=1):\n",
      "STOP: TOTAL NO. of ITERATIONS REACHED LIMIT.\n",
      "\n",
      "Increase the number of iterations (max_iter) or scale the data as shown in:\n",
      "    https://scikit-learn.org/stable/modules/preprocessing.html\n",
      "Please also refer to the documentation for alternative solver options:\n",
      "    https://scikit-learn.org/stable/modules/linear_model.html#logistic-regression\n",
      "  n_iter_i = _check_optimize_result(\n"
     ]
    },
    {
     "name": "stdout",
     "output_type": "stream",
     "text": [
      " Auc fold 6 : 0.4492690408183366\n"
     ]
    },
    {
     "name": "stderr",
     "output_type": "stream",
     "text": [
      "/Users/mcBedini/opt/anaconda3/lib/python3.9/site-packages/sklearn/linear_model/_logistic.py:444: ConvergenceWarning: lbfgs failed to converge (status=1):\n",
      "STOP: TOTAL NO. of ITERATIONS REACHED LIMIT.\n",
      "\n",
      "Increase the number of iterations (max_iter) or scale the data as shown in:\n",
      "    https://scikit-learn.org/stable/modules/preprocessing.html\n",
      "Please also refer to the documentation for alternative solver options:\n",
      "    https://scikit-learn.org/stable/modules/linear_model.html#logistic-regression\n",
      "  n_iter_i = _check_optimize_result(\n"
     ]
    },
    {
     "name": "stdout",
     "output_type": "stream",
     "text": [
      " Auc fold 7 : 0.535366042408296\n"
     ]
    },
    {
     "name": "stderr",
     "output_type": "stream",
     "text": [
      "/Users/mcBedini/opt/anaconda3/lib/python3.9/site-packages/sklearn/linear_model/_logistic.py:444: ConvergenceWarning: lbfgs failed to converge (status=2):\n",
      "ABNORMAL_TERMINATION_IN_LNSRCH.\n",
      "\n",
      "Increase the number of iterations (max_iter) or scale the data as shown in:\n",
      "    https://scikit-learn.org/stable/modules/preprocessing.html\n",
      "Please also refer to the documentation for alternative solver options:\n",
      "    https://scikit-learn.org/stable/modules/linear_model.html#logistic-regression\n",
      "  n_iter_i = _check_optimize_result(\n"
     ]
    },
    {
     "name": "stdout",
     "output_type": "stream",
     "text": [
      " Auc fold 8 : 0.5215760869565217\n"
     ]
    },
    {
     "name": "stderr",
     "output_type": "stream",
     "text": [
      "/Users/mcBedini/opt/anaconda3/lib/python3.9/site-packages/sklearn/linear_model/_logistic.py:444: ConvergenceWarning: lbfgs failed to converge (status=1):\n",
      "STOP: TOTAL NO. of ITERATIONS REACHED LIMIT.\n",
      "\n",
      "Increase the number of iterations (max_iter) or scale the data as shown in:\n",
      "    https://scikit-learn.org/stable/modules/preprocessing.html\n",
      "Please also refer to the documentation for alternative solver options:\n",
      "    https://scikit-learn.org/stable/modules/linear_model.html#logistic-regression\n",
      "  n_iter_i = _check_optimize_result(\n"
     ]
    },
    {
     "name": "stdout",
     "output_type": "stream",
     "text": [
      " Auc fold 9 : 0.5987111480069227\n",
      "Testing K Neighbors\n",
      " Auc fold 0 : 0.5586175115207372\n",
      " Auc fold 1 : 0.5555603603603603\n",
      " Auc fold 2 : 0.5300050277724574\n",
      " Auc fold 3 : 0.5437506810504522\n",
      " Auc fold 4 : 0.5670040760869566\n",
      " Auc fold 5 : 0.5078424828967129\n",
      " Auc fold 6 : 0.5521098619690169\n",
      " Auc fold 7 : 0.5565983312462186\n",
      " Auc fold 8 : 0.5895652173913044\n",
      " Auc fold 9 : 0.5471852091570402\n",
      "Testing Random Forest\n",
      " Auc fold 0 : 0.7200691244239631\n",
      " Auc fold 1 : 0.7179027027027026\n",
      " Auc fold 2 : 0.6994230032560812\n",
      " Auc fold 3 : 0.6551394012982767\n",
      " Auc fold 4 : 0.7091168478260871\n",
      " Auc fold 5 : 0.7252975693865065\n",
      " Auc fold 6 : 0.7314586821629074\n",
      " Auc fold 7 : 0.712301782724318\n",
      " Auc fold 8 : 0.6595312499999999\n",
      " Auc fold 9 : 0.6792362567010454\n",
      "Testing LGBM\n",
      " Auc fold 0 : 0.7472811059907833\n",
      " Auc fold 1 : 0.729499099099099\n",
      " Auc fold 2 : 0.6899061482474622\n",
      " Auc fold 3 : 0.6726599106461807\n",
      " Auc fold 4 : 0.745991847826087\n",
      " Auc fold 5 : 0.7324517492630291\n",
      " Auc fold 6 : 0.7308184772973505\n",
      " Auc fold 7 : 0.7497572849685525\n",
      " Auc fold 8 : 0.6874184782608695\n",
      " Auc fold 9 : 0.7800227941073012\n"
     ]
    },
    {
     "data": {
      "image/png": "[encoded data removed]",
      "text/plain": [
       "<Figure size 640x480 with 1 Axes>"
      ]
     },
     "metadata": {},
     "output_type": "display_data"
    }
   ],
   "source": [
    "plot_roc_curve(classifiers, preprocess, X,y)"
   ]
  },
  {
   "cell_type": "markdown",
   "id": "e261b50e",
   "metadata": {},
   "source": [
    "Le classifier LGBM du kernel choisi se confirme le meilleur."
   ]
  },
  {
   "cell_type": "markdown",
   "id": "621ccc3f",
   "metadata": {},
   "source": [
    "# Bibliography\n",
    "\n",
    "Light gbm\n",
    "\n",
    "https://towardsdatascience.com/how-to-beat-the-heck-out-of-xgboost-with-lightgbm-comprehensive-tutorial-5eba52195997\n",
    "\n",
    "https://lightgbm.readthedocs.io/en/latest/pythonapi/lightgbm.LGBMClassifier.html\n",
    "\n",
    "\n",
    "Auc Roc\n",
    "\n",
    "https://www.analyticsvidhya.com/blog/2020/06/auc-roc-curve-machine-learning/\n",
    "\n",
    "https://scikit-learn.org/stable/modules/generated/sklearn.metrics.auc.html\n",
    "\n",
    "https://towardsdatascience.com/understanding-auc-roc-curve-68b2303cc9c5\n",
    "\n"
   ]
  },
  {
   "cell_type": "code",
   "execution_count": null,
   "id": "d1d1d8ef",
   "metadata": {},
   "outputs": [],
   "source": []
  }
 ],
 "metadata": {
  "kernelspec": {
   "display_name": "Python 3 (ipykernel)",
   "language": "python",
   "name": "python3"
  },
  "language_info": {
   "codemirror_mode": {
    "name": "ipython",
    "version": 3
   },
   "file_extension": ".py",
   "mimetype": "text/x-python",
   "name": "python",
   "nbconvert_exporter": "python",
   "pygments_lexer": "ipython3",
   "version": "3.9.12"
  },
  "toc": {
   "base_numbering": 1,
   "nav_menu": {},
   "number_sections": true,
   "sideBar": true,
   "skip_h1_title": false,
   "title_cell": "Table of Contents",
   "title_sidebar": "Contents",
   "toc_cell": true,
   "toc_position": {},
   "toc_section_display": true,
   "toc_window_display": true
  }
 },
 "nbformat": 4,
 "nbformat_minor": 5
}
