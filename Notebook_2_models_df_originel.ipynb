{
 "cells": [
  {
   "cell_type": "markdown",
   "id": "05140d60",
   "metadata": {
    "toc": true
   },
   "source": [
    "<h1>Table of Contents<span class=\"tocSkip\"></span></h1>\n",
    "<div class=\"toc\"><ul class=\"toc-item\"><li><span><a href=\"#Import\" data-toc-modified-id=\"Import-1\"><span class=\"toc-item-num\">1&nbsp;&nbsp;</span>Import</a></span><ul class=\"toc-item\"><li><span><a href=\"#Outils\" data-toc-modified-id=\"Outils-1.1\"><span class=\"toc-item-num\">1.1&nbsp;&nbsp;</span>Outils</a></span></li><li><span><a href=\"#Lecture-du-dataframe\" data-toc-modified-id=\"Lecture-du-dataframe-1.2\"><span class=\"toc-item-num\">1.2&nbsp;&nbsp;</span>Lecture du dataframe</a></span><ul class=\"toc-item\"><li><span><a href=\"#Creation-d'un-dataframe-debug-equilibré\" data-toc-modified-id=\"Creation-d'un-dataframe-debug-equilibré-1.2.1\"><span class=\"toc-item-num\">1.2.1&nbsp;&nbsp;</span>Creation d'un dataframe debug equilibré</a></span></li></ul></li></ul></li><li><span><a href=\"#Choix-d'un-modèle\" data-toc-modified-id=\"Choix-d'un-modèle-2\"><span class=\"toc-item-num\">2&nbsp;&nbsp;</span>Choix d'un modèle</a></span><ul class=\"toc-item\"><li><span><a href=\"#Roc-auc\" data-toc-modified-id=\"Roc-auc-2.1\"><span class=\"toc-item-num\">2.1&nbsp;&nbsp;</span>Roc auc</a></span><ul class=\"toc-item\"><li><span><a href=\"#split-des-données-en-Train-et-Test\" data-toc-modified-id=\"split-des-données-en-Train-et-Test-2.1.1\"><span class=\"toc-item-num\">2.1.1&nbsp;&nbsp;</span>split des données en Train et Test</a></span></li><li><span><a href=\"#Plot-de-la-courbe-ROC-pour-les-différents-modèles-testés\" data-toc-modified-id=\"Plot-de-la-courbe-ROC-pour-les-différents-modèles-testés-2.1.2\"><span class=\"toc-item-num\">2.1.2&nbsp;&nbsp;</span>Plot de la courbe ROC pour les différents modèles testés</a></span><ul class=\"toc-item\"><li><span><a href=\"#Sur-les-données-telles-quelles\" data-toc-modified-id=\"Sur-les-données-telles-quelles-2.1.2.1\"><span class=\"toc-item-num\">2.1.2.1&nbsp;&nbsp;</span>Sur les données telles quelles</a></span></li><li><span><a href=\"#Sur-les-données-debug-equilibrés\" data-toc-modified-id=\"Sur-les-données-debug-equilibrés-2.1.2.2\"><span class=\"toc-item-num\">2.1.2.2&nbsp;&nbsp;</span>Sur les données debug equilibrés</a></span></li></ul></li></ul></li></ul></li><li><span><a href=\"#Bibliography\" data-toc-modified-id=\"Bibliography-3\"><span class=\"toc-item-num\">3&nbsp;&nbsp;</span>Bibliography</a></span></li></ul></div>"
   ]
  },
  {
   "cell_type": "markdown",
   "id": "e52d1fec",
   "metadata": {},
   "source": [
    "# Import\n"
   ]
  },
  {
   "cell_type": "code",
   "execution_count": null,
   "id": "aaf8d0dd",
   "metadata": {},
   "outputs": [],
   "source": [
    "import numpy as np\n",
    "import pandas as pd\n",
    "import gc\n",
    "import time\n",
    "import re\n",
    "from contextlib import contextmanager\n",
    "from lightgbm import LGBMClassifier\n",
    "\n",
    "from sklearn.ensemble import RandomForestClassifier\n",
    "from sklearn.linear_model import LogisticRegression\n",
    "from sklearn.neighbors import KNeighborsClassifier\n",
    "from sklearn.dummy import DummyClassifier\n",
    "\n",
    "from sklearn.metrics import roc_auc_score, roc_curve, auc\n",
    "from sklearn.model_selection import KFold, StratifiedKFold\n",
    "from sklearn.pipeline import Pipeline\n",
    "from sklearn.impute import SimpleImputer\n",
    "from sklearn.preprocessing import RobustScaler\n",
    "\n",
    "import matplotlib.pyplot as plt\n",
    "import seaborn as sns\n",
    "import warnings\n",
    "warnings.simplefilter(action='ignore', category=FutureWarning)\n",
    "\n",
    "\n"
   ]
  },
  {
   "cell_type": "markdown",
   "id": "526c6e1c",
   "metadata": {},
   "source": [
    "## Outils\n",
    "\n",
    "J'aurais pu les mettre dans un fichier py, mais je préfère les voir"
   ]
  },
  {
   "cell_type": "code",
   "execution_count": 2,
   "id": "98db327b",
   "metadata": {},
   "outputs": [],
   "source": [
    "@contextmanager\n",
    "def timer(title):\n",
    "    t0 = time.time()\n",
    "    yield\n",
    "    print(\"{} - done in {:.0f}s\".format(title, time.time() - t0))\n"
   ]
  },
  {
   "cell_type": "code",
   "execution_count": 3,
   "id": "4f8aae97",
   "metadata": {},
   "outputs": [],
   "source": [
    "def readdf(debug=True):\n",
    "    savedataframe = \"debugdataframe.csv\" if debug else \"apidataframe.csv\"\n",
    "    df = pd.read_csv(savedataframe)\n",
    "    print(\"Reading\",savedataframe)\n",
    "    print(\"Shape\",df.shape)\n",
    "    return df"
   ]
  },
  {
   "cell_type": "code",
   "execution_count": 4,
   "id": "f43c5018",
   "metadata": {},
   "outputs": [],
   "source": [
    "def prepare_train_df(df):\n",
    "    train_df = df[df['TARGET'].notnull()]\n",
    "    test_df = df[df['TARGET'].isnull()]\n",
    "    del df\n",
    "    gc.collect()\n",
    "    feats = [f for f in train_df.columns if f not in ['TARGET','SK_ID_CURR','SK_ID_BUREAU','SK_ID_PREV','index']]\n",
    "    train_x, train_y, apptest = train_df[feats], train_df['TARGET'], test_df[feats]\n",
    "    return train_x, train_y, apptest\n"
   ]
  },
  {
   "cell_type": "code",
   "execution_count": 5,
   "id": "10ee90dd",
   "metadata": {},
   "outputs": [],
   "source": [
    "def infinity(df):\n",
    "    # checking for infinity pour le ValueError: Input X contains infinity or a value too large for dtype('float64').\n",
    "    print()\n",
    "    print(\"checking for infinity\")\n",
    "  \n",
    "    ds = df.isin([np.inf, -np.inf])\n",
    "  \n",
    "    # printing the count of infinity values\n",
    "    print()\n",
    "    print(\"printing the count of infinity values\")\n",
    "  \n",
    "    count = np.isinf(df).values.sum()\n",
    "    print(\"It contains \" + str(count) + \" infinite values\")\n",
    "    \n",
    "    # printing column name where infinity is present\n",
    "    print()\n",
    "    print(\"printing column name where infinity is present\")\n",
    "    col_name = df.columns.to_series()[np.isinf(df).any()]\n",
    "    print(col_name)\n",
    "  \n",
    "    # printing row index with infinity\n",
    "    print()\n",
    "    print(\"printing row index with infinity \")\n",
    "  \n",
    "    r = df.index[np.isinf(df).any(1)]\n",
    "    print(r)"
   ]
  },
  {
   "cell_type": "markdown",
   "id": "8a49e297",
   "metadata": {},
   "source": [
    "## Lecture du dataframe"
   ]
  },
  {
   "cell_type": "code",
   "execution_count": 9,
   "id": "4470a1b9",
   "metadata": {},
   "outputs": [
    {
     "name": "stdout",
     "output_type": "stream",
     "text": [
      "Reading apidataframe.csv\n",
      "Shape (356251, 527)\n"
     ]
    }
   ],
   "source": [
    "# default mode debug=True pour tester avec un petit echantillon\n",
    "\n",
    "df=readdf(False) #False=lire tout le fichier mergé"
   ]
  },
  {
   "cell_type": "markdown",
   "id": "1f4d8981",
   "metadata": {},
   "source": [
    "### Creation d'un dataframe debug equilibré"
   ]
  },
  {
   "cell_type": "code",
   "execution_count": 7,
   "id": "1b8ff978",
   "metadata": {},
   "outputs": [
    {
     "name": "stdout",
     "output_type": "stream",
     "text": [
      "Reading apidataframe.csv\n",
      "Shape (356251, 527)\n"
     ]
    }
   ],
   "source": [
    "dfall=readdf(False)"
   ]
  },
  {
   "cell_type": "code",
   "execution_count": 10,
   "id": "8e389fe4",
   "metadata": {},
   "outputs": [
    {
     "data": {
      "text/plain": [
       "(20000, 527)"
      ]
     },
     "metadata": {},
     "output_type": "display_data"
    },
    {
     "data": {
      "text/plain": [
       "0.0    5000\n",
       "1.0    5000\n",
       "Name: TARGET, dtype: int64"
      ]
     },
     "metadata": {},
     "output_type": "display_data"
    },
    {
     "data": {
      "text/html": [
       "<div>\n",
       "<style scoped>\n",
       "    .dataframe tbody tr th:only-of-type {\n",
       "        vertical-align: middle;\n",
       "    }\n",
       "\n",
       "    .dataframe tbody tr th {\n",
       "        vertical-align: top;\n",
       "    }\n",
       "\n",
       "    .dataframe thead th {\n",
       "        text-align: right;\n",
       "    }\n",
       "</style>\n",
       "<table border=\"1\" class=\"dataframe\">\n",
       "  <thead>\n",
       "    <tr style=\"text-align: right;\">\n",
       "      <th></th>\n",
       "      <th>index</th>\n",
       "      <th>SK_ID_CURR</th>\n",
       "      <th>TARGET</th>\n",
       "      <th>CODE_GENDER</th>\n",
       "      <th>FLAG_OWN_CAR</th>\n",
       "      <th>AMT_INCOME_TOTAL</th>\n",
       "      <th>AMT_CREDIT</th>\n",
       "      <th>AMT_ANNUITY</th>\n",
       "      <th>AMT_GOODS_PRICE</th>\n",
       "      <th>REGION_POPULATION_RELATIVE</th>\n",
       "      <th>...</th>\n",
       "      <th>CC_NAME_CONTRACT_STATUS_Refused_SUM</th>\n",
       "      <th>CC_NAME_CONTRACT_STATUS_Sentproposal_MIN</th>\n",
       "      <th>CC_NAME_CONTRACT_STATUS_Sentproposal_MAX</th>\n",
       "      <th>CC_NAME_CONTRACT_STATUS_Sentproposal_MEAN</th>\n",
       "      <th>CC_NAME_CONTRACT_STATUS_Sentproposal_SUM</th>\n",
       "      <th>CC_NAME_CONTRACT_STATUS_Signed_MIN</th>\n",
       "      <th>CC_NAME_CONTRACT_STATUS_Signed_MAX</th>\n",
       "      <th>CC_NAME_CONTRACT_STATUS_Signed_MEAN</th>\n",
       "      <th>CC_NAME_CONTRACT_STATUS_Signed_SUM</th>\n",
       "      <th>CC_COUNT</th>\n",
       "    </tr>\n",
       "  </thead>\n",
       "  <tbody>\n",
       "    <tr>\n",
       "      <th>0</th>\n",
       "      <td>112927</td>\n",
       "      <td>230984</td>\n",
       "      <td>0.0</td>\n",
       "      <td>1</td>\n",
       "      <td>0</td>\n",
       "      <td>135000.0</td>\n",
       "      <td>288873.0</td>\n",
       "      <td>19435.5</td>\n",
       "      <td>238500.0</td>\n",
       "      <td>0.002042</td>\n",
       "      <td>...</td>\n",
       "      <td>NaN</td>\n",
       "      <td>NaN</td>\n",
       "      <td>NaN</td>\n",
       "      <td>NaN</td>\n",
       "      <td>NaN</td>\n",
       "      <td>NaN</td>\n",
       "      <td>NaN</td>\n",
       "      <td>NaN</td>\n",
       "      <td>NaN</td>\n",
       "      <td>NaN</td>\n",
       "    </tr>\n",
       "    <tr>\n",
       "      <th>1</th>\n",
       "      <td>10369</td>\n",
       "      <td>112073</td>\n",
       "      <td>0.0</td>\n",
       "      <td>0</td>\n",
       "      <td>0</td>\n",
       "      <td>225000.0</td>\n",
       "      <td>871029.0</td>\n",
       "      <td>42034.5</td>\n",
       "      <td>765000.0</td>\n",
       "      <td>0.003818</td>\n",
       "      <td>...</td>\n",
       "      <td>0.0</td>\n",
       "      <td>0.0</td>\n",
       "      <td>0.0</td>\n",
       "      <td>0.0</td>\n",
       "      <td>0.0</td>\n",
       "      <td>0.0</td>\n",
       "      <td>0.0</td>\n",
       "      <td>0.0</td>\n",
       "      <td>0.0</td>\n",
       "      <td>10.0</td>\n",
       "    </tr>\n",
       "    <tr>\n",
       "      <th>2</th>\n",
       "      <td>113906</td>\n",
       "      <td>232105</td>\n",
       "      <td>0.0</td>\n",
       "      <td>1</td>\n",
       "      <td>0</td>\n",
       "      <td>103500.0</td>\n",
       "      <td>463284.0</td>\n",
       "      <td>17595.0</td>\n",
       "      <td>382500.0</td>\n",
       "      <td>0.019689</td>\n",
       "      <td>...</td>\n",
       "      <td>NaN</td>\n",
       "      <td>NaN</td>\n",
       "      <td>NaN</td>\n",
       "      <td>NaN</td>\n",
       "      <td>NaN</td>\n",
       "      <td>NaN</td>\n",
       "      <td>NaN</td>\n",
       "      <td>NaN</td>\n",
       "      <td>NaN</td>\n",
       "      <td>NaN</td>\n",
       "    </tr>\n",
       "    <tr>\n",
       "      <th>3</th>\n",
       "      <td>118080</td>\n",
       "      <td>236925</td>\n",
       "      <td>0.0</td>\n",
       "      <td>0</td>\n",
       "      <td>1</td>\n",
       "      <td>292500.0</td>\n",
       "      <td>1732500.0</td>\n",
       "      <td>45832.5</td>\n",
       "      <td>1732500.0</td>\n",
       "      <td>0.018634</td>\n",
       "      <td>...</td>\n",
       "      <td>NaN</td>\n",
       "      <td>NaN</td>\n",
       "      <td>NaN</td>\n",
       "      <td>NaN</td>\n",
       "      <td>NaN</td>\n",
       "      <td>NaN</td>\n",
       "      <td>NaN</td>\n",
       "      <td>NaN</td>\n",
       "      <td>NaN</td>\n",
       "      <td>NaN</td>\n",
       "    </tr>\n",
       "    <tr>\n",
       "      <th>4</th>\n",
       "      <td>103208</td>\n",
       "      <td>219794</td>\n",
       "      <td>0.0</td>\n",
       "      <td>0</td>\n",
       "      <td>0</td>\n",
       "      <td>166500.0</td>\n",
       "      <td>266832.0</td>\n",
       "      <td>24601.5</td>\n",
       "      <td>238500.0</td>\n",
       "      <td>0.030755</td>\n",
       "      <td>...</td>\n",
       "      <td>NaN</td>\n",
       "      <td>NaN</td>\n",
       "      <td>NaN</td>\n",
       "      <td>NaN</td>\n",
       "      <td>NaN</td>\n",
       "      <td>NaN</td>\n",
       "      <td>NaN</td>\n",
       "      <td>NaN</td>\n",
       "      <td>NaN</td>\n",
       "      <td>NaN</td>\n",
       "    </tr>\n",
       "  </tbody>\n",
       "</table>\n",
       "<p>5 rows × 527 columns</p>\n",
       "</div>"
      ],
      "text/plain": [
       "    index  SK_ID_CURR  TARGET  CODE_GENDER  FLAG_OWN_CAR  AMT_INCOME_TOTAL  \\\n",
       "0  112927      230984     0.0            1             0          135000.0   \n",
       "1   10369      112073     0.0            0             0          225000.0   \n",
       "2  113906      232105     0.0            1             0          103500.0   \n",
       "3  118080      236925     0.0            0             1          292500.0   \n",
       "4  103208      219794     0.0            0             0          166500.0   \n",
       "\n",
       "   AMT_CREDIT  AMT_ANNUITY  AMT_GOODS_PRICE  REGION_POPULATION_RELATIVE  ...  \\\n",
       "0    288873.0      19435.5         238500.0                    0.002042  ...   \n",
       "1    871029.0      42034.5         765000.0                    0.003818  ...   \n",
       "2    463284.0      17595.0         382500.0                    0.019689  ...   \n",
       "3   1732500.0      45832.5        1732500.0                    0.018634  ...   \n",
       "4    266832.0      24601.5         238500.0                    0.030755  ...   \n",
       "\n",
       "   CC_NAME_CONTRACT_STATUS_Refused_SUM  \\\n",
       "0                                  NaN   \n",
       "1                                  0.0   \n",
       "2                                  NaN   \n",
       "3                                  NaN   \n",
       "4                                  NaN   \n",
       "\n",
       "   CC_NAME_CONTRACT_STATUS_Sentproposal_MIN  \\\n",
       "0                                       NaN   \n",
       "1                                       0.0   \n",
       "2                                       NaN   \n",
       "3                                       NaN   \n",
       "4                                       NaN   \n",
       "\n",
       "   CC_NAME_CONTRACT_STATUS_Sentproposal_MAX  \\\n",
       "0                                       NaN   \n",
       "1                                       0.0   \n",
       "2                                       NaN   \n",
       "3                                       NaN   \n",
       "4                                       NaN   \n",
       "\n",
       "   CC_NAME_CONTRACT_STATUS_Sentproposal_MEAN  \\\n",
       "0                                        NaN   \n",
       "1                                        0.0   \n",
       "2                                        NaN   \n",
       "3                                        NaN   \n",
       "4                                        NaN   \n",
       "\n",
       "   CC_NAME_CONTRACT_STATUS_Sentproposal_SUM  \\\n",
       "0                                       NaN   \n",
       "1                                       0.0   \n",
       "2                                       NaN   \n",
       "3                                       NaN   \n",
       "4                                       NaN   \n",
       "\n",
       "   CC_NAME_CONTRACT_STATUS_Signed_MIN  CC_NAME_CONTRACT_STATUS_Signed_MAX  \\\n",
       "0                                 NaN                                 NaN   \n",
       "1                                 0.0                                 0.0   \n",
       "2                                 NaN                                 NaN   \n",
       "3                                 NaN                                 NaN   \n",
       "4                                 NaN                                 NaN   \n",
       "\n",
       "   CC_NAME_CONTRACT_STATUS_Signed_MEAN  CC_NAME_CONTRACT_STATUS_Signed_SUM  \\\n",
       "0                                  NaN                                 NaN   \n",
       "1                                  0.0                                 0.0   \n",
       "2                                  NaN                                 NaN   \n",
       "3                                  NaN                                 NaN   \n",
       "4                                  NaN                                 NaN   \n",
       "\n",
       "   CC_COUNT  \n",
       "0       NaN  \n",
       "1      10.0  \n",
       "2       NaN  \n",
       "3       NaN  \n",
       "4       NaN  \n",
       "\n",
       "[5 rows x 527 columns]"
      ]
     },
     "execution_count": 10,
     "metadata": {},
     "output_type": "execute_result"
    }
   ],
   "source": [
    "df_0 = dfall[dfall['TARGET']==0].sample(5000)\n",
    "df_1 = dfall[dfall['TARGET']==1].sample(5000)\n",
    "df_test=dfall[dfall['TARGET'].isnull()].sample(10000)\n",
    "df50=df_0.append(df_1, ignore_index=True).append(df_test, ignore_index=True)\n",
    "display(df50.shape)\n",
    "display(df50['TARGET'].value_counts())\n",
    "df50.head()"
   ]
  },
  {
   "cell_type": "markdown",
   "id": "db5ab690",
   "metadata": {},
   "source": [
    "# Choix d'un modèle\n",
    "\n",
    "LGBMClassifier semble etre gagnant dans le concours Kaggle. \n",
    "Je le compare avec quelques autres classifiers de differents types.\n"
   ]
  },
  {
   "cell_type": "code",
   "execution_count": 11,
   "id": "046f3ec0",
   "metadata": {},
   "outputs": [],
   "source": [
    "classifiers = { 'Dummy Classifier': DummyClassifier(),\n",
    "                'Logistic Regression': LogisticRegression(),\n",
    "                'K Neighbors': KNeighborsClassifier(),\n",
    "                'Random Forest': RandomForestClassifier(),\n",
    "                'LGBM': LGBMClassifier()\n",
    "              }"
   ]
  },
  {
   "cell_type": "markdown",
   "id": "b01f57e6",
   "metadata": {},
   "source": [
    "Pour les autres classifiers if faut imputer et scaler les données"
   ]
  },
  {
   "cell_type": "code",
   "execution_count": 12,
   "id": "fb770d27",
   "metadata": {},
   "outputs": [],
   "source": [
    "preprocess  = Pipeline([\n",
    "    ('imputer', SimpleImputer(strategy='median')),\n",
    "    ('scaler', RobustScaler()),\n",
    "])"
   ]
  },
  {
   "cell_type": "markdown",
   "id": "fd8f962b",
   "metadata": {},
   "source": [
    "## Roc auc\n",
    "\n",
    "The Receiver Operating Characteristic (ROC) curve graphs the true positive rate versus the false positive rate:\n",
    "\n",
    "A single line on the graph indicates the curve for a single model, and movement along a line indicates changing the threshold used for classifying a positive instance. The threshold starts at 0 in the upper right to and goes to 1 in the lower left. A curve that is to the left and above another curve indicates a better model. For example, the blue model is better than the red model, which is better than the black diagonal line which indicates a naive random guessing model.\n",
    "\n",
    "The Area Under the Curve (AUC) explains itself by its name! It is simply the area under the ROC curve. (This is the integral of the curve.) This metric is between 0 and 1 with a better model scoring higher. A model that simply guesses at random will have an ROC AUC of 0.5.\n",
    "\n",
    "When we measure a classifier according to the ROC AUC, we do not generation 0 or 1 predictions, but rather a probability between 0 and 1.\n",
    "\n",
    "https://scikit-learn.org/stable/auto_examples/model_selection/plot_roc_crossval.html"
   ]
  },
  {
   "cell_type": "markdown",
   "id": "2f603fcc",
   "metadata": {},
   "source": [
    "### split des données en Train et Test\n"
   ]
  },
  {
   "cell_type": "code",
   "execution_count": 13,
   "id": "f7165dff",
   "metadata": {},
   "outputs": [],
   "source": [
    "def prepare_train_df(df):\n",
    "    train_df = df[df['TARGET'].notnull()]\n",
    "    test_df = df[df['TARGET'].isnull()]\n",
    "    del df\n",
    "    gc.collect()\n",
    "    feats = [f for f in train_df.columns if f not in ['TARGET','SK_ID_CURR','SK_ID_BUREAU','SK_ID_PREV','index']]\n",
    "    train_x, train_y = train_df[feats], train_df['TARGET']\n",
    "    display(train_x.shape)\n",
    "    #train_x=train_x.astype(np.float64)\n",
    "    display(train_y.value_counts())\n",
    "    return train_x, train_y\n"
   ]
  },
  {
   "cell_type": "code",
   "execution_count": 14,
   "id": "4a485bc0",
   "metadata": {},
   "outputs": [
    {
     "data": {
      "text/plain": [
       "(307507, 524)"
      ]
     },
     "metadata": {},
     "output_type": "display_data"
    },
    {
     "data": {
      "text/plain": [
       "0.0    282682\n",
       "1.0     24825\n",
       "Name: TARGET, dtype: int64"
      ]
     },
     "metadata": {},
     "output_type": "display_data"
    },
    {
     "data": {
      "text/plain": [
       "(10000, 524)"
      ]
     },
     "metadata": {},
     "output_type": "display_data"
    },
    {
     "data": {
      "text/plain": [
       "0.0    5000\n",
       "1.0    5000\n",
       "Name: TARGET, dtype: int64"
      ]
     },
     "metadata": {},
     "output_type": "display_data"
    },
    {
     "name": "stdout",
     "output_type": "stream",
     "text": [
      "\n",
      "checking for infinity\n",
      "\n",
      "printing the count of infinity values\n",
      "It contains 0 infinite values\n",
      "\n",
      "printing column name where infinity is present\n",
      "Series([], dtype: object)\n",
      "\n",
      "printing row index with infinity \n",
      "Int64Index([], dtype='int64')\n"
     ]
    }
   ],
   "source": [
    "X,y = prepare_train_df(df)\n",
    "X50,y50 = prepare_train_df(df50)\n",
    "infinity(dfall)\n"
   ]
  },
  {
   "cell_type": "markdown",
   "id": "4ef8549d",
   "metadata": {},
   "source": [
    "### Plot de la courbe ROC pour les différents modèles testés\n",
    "\n",
    "#### Sur les données telles quelles"
   ]
  },
  {
   "cell_type": "code",
   "execution_count": 15,
   "id": "b86b9aae",
   "metadata": {},
   "outputs": [],
   "source": [
    "def plot_roc_curve(classifiers, preprocessor, X, y, n_splits=6, fit=True):\n",
    "\n",
    "    kf = KFold(n_splits=n_splits, shuffle=True, random_state=1)    \n",
    "    for clf_name, classifier in classifiers.items():\n",
    "      with timer(clf_name):  \n",
    "        print('Testing',clf_name)\n",
    "        tprs = []\n",
    "        aucs = []\n",
    "        mean_fpr = np.linspace(0, 1, 100)\n",
    "        for n_fold, (train, test) in enumerate(kf.split(X, y)):\n",
    "\n",
    "            pipeline = Pipeline(\n",
    "                    [\n",
    "                     ('preprocessing', preprocessor),\n",
    "                     ('clf', classifier)\n",
    "                    ]\n",
    "            )\n",
    "            \n",
    "            if fit :\n",
    "                pipeline.fit(X.iloc[train, :], y.iloc[train])\n",
    "\n",
    "            y_pred_grd = pipeline.predict_proba(X.iloc[test, :])[:, 1]\n",
    "            fpr, tpr, _ = roc_curve(y.iloc[test], y_pred_grd)\n",
    "\n",
    "            interp_tpr = np.interp(mean_fpr, fpr, tpr)\n",
    "            interp_tpr[0] = 0.0\n",
    "            tprs.append(interp_tpr)\n",
    "            auc_ = auc(fpr, tpr)\n",
    "            print(' Auc fold',n_fold,\":\",auc_)\n",
    "            aucs.append(auc_)\n",
    "\n",
    "        mean_tpr = np.mean(tprs, axis=0)\n",
    "        mean_tpr[-1] = 1.0\n",
    "        mean_auc = auc(mean_fpr, mean_tpr)\n",
    "        std_auc = np.std(aucs)\n",
    "        plt.plot(mean_fpr, mean_tpr,\n",
    "            label=clf_name + r' (AUC = %0.2f $\\pm$ %0.2f)' % (mean_auc, std_auc),\n",
    "            lw=2,\n",
    "            alpha=.8)\n",
    "\n",
    "    plt.plot([0, 1], [0, 1], color='black', lw=2, linestyle='--')\n",
    "    plt.xlim([0.0, 1.0])\n",
    "    plt.ylim([0.0, 1.05])\n",
    "    plt.xlabel('False Positive Rate')\n",
    "    plt.ylabel('True Positive Rate')\n",
    "    plt.title('Receiver operating characteristic example')\n",
    "    plt.legend(loc=\"lower right\")\n",
    "    plt.show()\n"
   ]
  },
  {
   "cell_type": "code",
   "execution_count": 16,
   "id": "68bd63b1",
   "metadata": {
    "scrolled": false
   },
   "outputs": [
    {
     "name": "stdout",
     "output_type": "stream",
     "text": [
      "Testing Dummy Classifier\n",
      " Auc fold 0 : 0.5\n",
      " Auc fold 1 : 0.5\n",
      " Auc fold 2 : 0.5\n",
      " Auc fold 3 : 0.5\n",
      " Auc fold 4 : 0.5\n",
      " Auc fold 5 : 0.5\n",
      "Dummy Classifier - done in 243s\n",
      "Testing Logistic Regression\n"
     ]
    },
    {
     "name": "stderr",
     "output_type": "stream",
     "text": [
      "/Users/mcBedini/opt/anaconda3/lib/python3.9/site-packages/sklearn/linear_model/_logistic.py:444: ConvergenceWarning: lbfgs failed to converge (status=1):\n",
      "STOP: TOTAL NO. of ITERATIONS REACHED LIMIT.\n",
      "\n",
      "Increase the number of iterations (max_iter) or scale the data as shown in:\n",
      "    https://scikit-learn.org/stable/modules/preprocessing.html\n",
      "Please also refer to the documentation for alternative solver options:\n",
      "    https://scikit-learn.org/stable/modules/linear_model.html#logistic-regression\n",
      "  n_iter_i = _check_optimize_result(\n"
     ]
    },
    {
     "name": "stdout",
     "output_type": "stream",
     "text": [
      " Auc fold 0 : 0.4981488732330853\n"
     ]
    },
    {
     "name": "stderr",
     "output_type": "stream",
     "text": [
      "/Users/mcBedini/opt/anaconda3/lib/python3.9/site-packages/sklearn/linear_model/_logistic.py:444: ConvergenceWarning: lbfgs failed to converge (status=1):\n",
      "STOP: TOTAL NO. of ITERATIONS REACHED LIMIT.\n",
      "\n",
      "Increase the number of iterations (max_iter) or scale the data as shown in:\n",
      "    https://scikit-learn.org/stable/modules/preprocessing.html\n",
      "Please also refer to the documentation for alternative solver options:\n",
      "    https://scikit-learn.org/stable/modules/linear_model.html#logistic-regression\n",
      "  n_iter_i = _check_optimize_result(\n"
     ]
    },
    {
     "name": "stdout",
     "output_type": "stream",
     "text": [
      " Auc fold 1 : 0.5008865571484407\n"
     ]
    },
    {
     "name": "stderr",
     "output_type": "stream",
     "text": [
      "/Users/mcBedini/opt/anaconda3/lib/python3.9/site-packages/sklearn/linear_model/_logistic.py:444: ConvergenceWarning: lbfgs failed to converge (status=1):\n",
      "STOP: TOTAL NO. of ITERATIONS REACHED LIMIT.\n",
      "\n",
      "Increase the number of iterations (max_iter) or scale the data as shown in:\n",
      "    https://scikit-learn.org/stable/modules/preprocessing.html\n",
      "Please also refer to the documentation for alternative solver options:\n",
      "    https://scikit-learn.org/stable/modules/linear_model.html#logistic-regression\n",
      "  n_iter_i = _check_optimize_result(\n"
     ]
    },
    {
     "name": "stdout",
     "output_type": "stream",
     "text": [
      " Auc fold 2 : 0.49954464822232736\n"
     ]
    },
    {
     "name": "stderr",
     "output_type": "stream",
     "text": [
      "/Users/mcBedini/opt/anaconda3/lib/python3.9/site-packages/sklearn/linear_model/_logistic.py:444: ConvergenceWarning: lbfgs failed to converge (status=1):\n",
      "STOP: TOTAL NO. of ITERATIONS REACHED LIMIT.\n",
      "\n",
      "Increase the number of iterations (max_iter) or scale the data as shown in:\n",
      "    https://scikit-learn.org/stable/modules/preprocessing.html\n",
      "Please also refer to the documentation for alternative solver options:\n",
      "    https://scikit-learn.org/stable/modules/linear_model.html#logistic-regression\n",
      "  n_iter_i = _check_optimize_result(\n"
     ]
    },
    {
     "name": "stdout",
     "output_type": "stream",
     "text": [
      " Auc fold 3 : 0.4927347831887243\n"
     ]
    },
    {
     "name": "stderr",
     "output_type": "stream",
     "text": [
      "/Users/mcBedini/opt/anaconda3/lib/python3.9/site-packages/sklearn/linear_model/_logistic.py:444: ConvergenceWarning: lbfgs failed to converge (status=1):\n",
      "STOP: TOTAL NO. of ITERATIONS REACHED LIMIT.\n",
      "\n",
      "Increase the number of iterations (max_iter) or scale the data as shown in:\n",
      "    https://scikit-learn.org/stable/modules/preprocessing.html\n",
      "Please also refer to the documentation for alternative solver options:\n",
      "    https://scikit-learn.org/stable/modules/linear_model.html#logistic-regression\n",
      "  n_iter_i = _check_optimize_result(\n"
     ]
    },
    {
     "name": "stdout",
     "output_type": "stream",
     "text": [
      " Auc fold 4 : 0.48941381873324363\n"
     ]
    },
    {
     "name": "stderr",
     "output_type": "stream",
     "text": [
      "/Users/mcBedini/opt/anaconda3/lib/python3.9/site-packages/sklearn/linear_model/_logistic.py:444: ConvergenceWarning: lbfgs failed to converge (status=1):\n",
      "STOP: TOTAL NO. of ITERATIONS REACHED LIMIT.\n",
      "\n",
      "Increase the number of iterations (max_iter) or scale the data as shown in:\n",
      "    https://scikit-learn.org/stable/modules/preprocessing.html\n",
      "Please also refer to the documentation for alternative solver options:\n",
      "    https://scikit-learn.org/stable/modules/linear_model.html#logistic-regression\n",
      "  n_iter_i = _check_optimize_result(\n"
     ]
    },
    {
     "name": "stdout",
     "output_type": "stream",
     "text": [
      " Auc fold 5 : 0.4957140184815832\n",
      "Logistic Regression - done in 379s\n",
      "Testing K Neighbors\n",
      " Auc fold 0 : 0.5563901830234231\n",
      " Auc fold 1 : 0.5554592033487992\n",
      " Auc fold 2 : 0.545284226702029\n",
      " Auc fold 3 : 0.5500776438103478\n",
      " Auc fold 4 : 0.5448875669457618\n",
      " Auc fold 5 : 0.550883563444976\n",
      "K Neighbors - done in 3264s\n",
      "Testing Random Forest\n",
      " Auc fold 0 : 0.7242717727059023\n",
      " Auc fold 1 : 0.727361640340947\n",
      " Auc fold 2 : 0.7261080124583575\n",
      " Auc fold 3 : 0.7213680683703865\n",
      " Auc fold 4 : 0.7184311179292844\n",
      " Auc fold 5 : 0.7247568619758439\n",
      "Random Forest - done in 2952s\n",
      "Testing LGBM\n",
      " Auc fold 0 : 0.7791894207250624\n",
      " Auc fold 1 : 0.790226615996781\n",
      " Auc fold 2 : 0.7796056424874837\n",
      " Auc fold 3 : 0.7793201845599648\n",
      " Auc fold 4 : 0.7773762927831896\n",
      " Auc fold 5 : 0.780102332807421\n",
      "LGBM - done in 373s\n"
     ]
    },
    {
     "data": {
      "image/png": "[encoded data removed]",
      "text/plain": [
       "<Figure size 640x480 with 1 Axes>"
      ]
     },
     "metadata": {},
     "output_type": "display_data"
    }
   ],
   "source": [
    "plot_roc_curve(classifiers, preprocess, X,y)"
   ]
  },
  {
   "cell_type": "markdown",
   "id": "90e72f70",
   "metadata": {},
   "source": [
    "Le classifier LGBM du kernel choisi se confirme le meilleur. \n",
    "\n",
    "#### Sur les données debug equilibrés"
   ]
  },
  {
   "cell_type": "code",
   "execution_count": 17,
   "id": "f83827f6",
   "metadata": {
    "scrolled": false
   },
   "outputs": [
    {
     "name": "stdout",
     "output_type": "stream",
     "text": [
      "Testing Dummy Classifier\n",
      " Auc fold 0 : 0.5\n",
      " Auc fold 1 : 0.5\n",
      " Auc fold 2 : 0.5\n",
      " Auc fold 3 : 0.5\n",
      " Auc fold 4 : 0.5\n",
      " Auc fold 5 : 0.5\n",
      "Dummy Classifier - done in 6s\n",
      "Testing Logistic Regression\n"
     ]
    },
    {
     "name": "stderr",
     "output_type": "stream",
     "text": [
      "/Users/mcBedini/opt/anaconda3/lib/python3.9/site-packages/sklearn/linear_model/_logistic.py:444: ConvergenceWarning: lbfgs failed to converge (status=1):\n",
      "STOP: TOTAL NO. of ITERATIONS REACHED LIMIT.\n",
      "\n",
      "Increase the number of iterations (max_iter) or scale the data as shown in:\n",
      "    https://scikit-learn.org/stable/modules/preprocessing.html\n",
      "Please also refer to the documentation for alternative solver options:\n",
      "    https://scikit-learn.org/stable/modules/linear_model.html#logistic-regression\n",
      "  n_iter_i = _check_optimize_result(\n"
     ]
    },
    {
     "name": "stdout",
     "output_type": "stream",
     "text": [
      " Auc fold 0 : 0.6026392074597448\n"
     ]
    },
    {
     "name": "stderr",
     "output_type": "stream",
     "text": [
      "/Users/mcBedini/opt/anaconda3/lib/python3.9/site-packages/sklearn/linear_model/_logistic.py:444: ConvergenceWarning: lbfgs failed to converge (status=1):\n",
      "STOP: TOTAL NO. of ITERATIONS REACHED LIMIT.\n",
      "\n",
      "Increase the number of iterations (max_iter) or scale the data as shown in:\n",
      "    https://scikit-learn.org/stable/modules/preprocessing.html\n",
      "Please also refer to the documentation for alternative solver options:\n",
      "    https://scikit-learn.org/stable/modules/linear_model.html#logistic-regression\n",
      "  n_iter_i = _check_optimize_result(\n"
     ]
    },
    {
     "name": "stdout",
     "output_type": "stream",
     "text": [
      " Auc fold 1 : 0.5828151774785801\n"
     ]
    },
    {
     "name": "stderr",
     "output_type": "stream",
     "text": [
      "/Users/mcBedini/opt/anaconda3/lib/python3.9/site-packages/sklearn/linear_model/_logistic.py:444: ConvergenceWarning: lbfgs failed to converge (status=1):\n",
      "STOP: TOTAL NO. of ITERATIONS REACHED LIMIT.\n",
      "\n",
      "Increase the number of iterations (max_iter) or scale the data as shown in:\n",
      "    https://scikit-learn.org/stable/modules/preprocessing.html\n",
      "Please also refer to the documentation for alternative solver options:\n",
      "    https://scikit-learn.org/stable/modules/linear_model.html#logistic-regression\n",
      "  n_iter_i = _check_optimize_result(\n"
     ]
    },
    {
     "name": "stdout",
     "output_type": "stream",
     "text": [
      " Auc fold 2 : 0.5774553410775719\n"
     ]
    },
    {
     "name": "stderr",
     "output_type": "stream",
     "text": [
      "/Users/mcBedini/opt/anaconda3/lib/python3.9/site-packages/sklearn/linear_model/_logistic.py:444: ConvergenceWarning: lbfgs failed to converge (status=1):\n",
      "STOP: TOTAL NO. of ITERATIONS REACHED LIMIT.\n",
      "\n",
      "Increase the number of iterations (max_iter) or scale the data as shown in:\n",
      "    https://scikit-learn.org/stable/modules/preprocessing.html\n",
      "Please also refer to the documentation for alternative solver options:\n",
      "    https://scikit-learn.org/stable/modules/linear_model.html#logistic-regression\n",
      "  n_iter_i = _check_optimize_result(\n"
     ]
    },
    {
     "name": "stdout",
     "output_type": "stream",
     "text": [
      " Auc fold 3 : 0.5985565359166471\n"
     ]
    },
    {
     "name": "stderr",
     "output_type": "stream",
     "text": [
      "/Users/mcBedini/opt/anaconda3/lib/python3.9/site-packages/sklearn/linear_model/_logistic.py:444: ConvergenceWarning: lbfgs failed to converge (status=1):\n",
      "STOP: TOTAL NO. of ITERATIONS REACHED LIMIT.\n",
      "\n",
      "Increase the number of iterations (max_iter) or scale the data as shown in:\n",
      "    https://scikit-learn.org/stable/modules/preprocessing.html\n",
      "Please also refer to the documentation for alternative solver options:\n",
      "    https://scikit-learn.org/stable/modules/linear_model.html#logistic-regression\n",
      "  n_iter_i = _check_optimize_result(\n"
     ]
    },
    {
     "name": "stdout",
     "output_type": "stream",
     "text": [
      " Auc fold 4 : 0.5828816256862113\n"
     ]
    },
    {
     "name": "stderr",
     "output_type": "stream",
     "text": [
      "/Users/mcBedini/opt/anaconda3/lib/python3.9/site-packages/sklearn/linear_model/_logistic.py:444: ConvergenceWarning: lbfgs failed to converge (status=1):\n",
      "STOP: TOTAL NO. of ITERATIONS REACHED LIMIT.\n",
      "\n",
      "Increase the number of iterations (max_iter) or scale the data as shown in:\n",
      "    https://scikit-learn.org/stable/modules/preprocessing.html\n",
      "Please also refer to the documentation for alternative solver options:\n",
      "    https://scikit-learn.org/stable/modules/linear_model.html#logistic-regression\n",
      "  n_iter_i = _check_optimize_result(\n"
     ]
    },
    {
     "name": "stdout",
     "output_type": "stream",
     "text": [
      " Auc fold 5 : 0.5873061645267568\n",
      "Logistic Regression - done in 10s\n",
      "Testing K Neighbors\n",
      " Auc fold 0 : 0.5896088590232713\n",
      " Auc fold 1 : 0.5674778601771187\n",
      " Auc fold 2 : 0.5596594262354077\n",
      " Auc fold 3 : 0.5594337910592221\n",
      " Auc fold 4 : 0.5789315864741431\n",
      " Auc fold 5 : 0.602849768947395\n",
      "K Neighbors - done in 10s\n",
      "Testing Random Forest\n",
      " Auc fold 0 : 0.7371202123122673\n",
      " Auc fold 1 : 0.7238757289941681\n",
      " Auc fold 2 : 0.7304637906464567\n",
      " Auc fold 3 : 0.7360917871473797\n",
      " Auc fold 4 : 0.7100245940397657\n",
      " Auc fold 5 : 0.7418785550020546\n",
      "Random Forest - done in 39s\n",
      "Testing LGBM\n",
      " Auc fold 0 : 0.7476789151557763\n",
      " Auc fold 1 : 0.7508387932896536\n",
      " Auc fold 2 : 0.7545148335276591\n",
      " Auc fold 3 : 0.7638808472393857\n",
      " Auc fold 4 : 0.7337875397887162\n",
      " Auc fold 5 : 0.764975164548384\n",
      "LGBM - done in 21s\n"
     ]
    },
    {
     "data": {
      "image/png": "[encoded data removed]",
      "text/plain": [
       "<Figure size 640x480 with 1 Axes>"
      ]
     },
     "metadata": {},
     "output_type": "display_data"
    }
   ],
   "source": [
    "plot_roc_curve(classifiers, preprocess, X50,y50)"
   ]
  },
  {
   "cell_type": "code",
   "execution_count": 18,
   "id": "748c5407",
   "metadata": {},
   "outputs": [],
   "source": [
    "#sauvegarde du fichier debug équilibré, pour des tests\n",
    "df50.to_csv('df50.csv', index= False)\n"
   ]
  },
  {
   "cell_type": "markdown",
   "id": "621ccc3f",
   "metadata": {},
   "source": [
    "# Bibliography\n",
    "\n",
    "Light gbm\n",
    "\n",
    "https://towardsdatascience.com/how-to-beat-the-heck-out-of-xgboost-with-lightgbm-comprehensive-tutorial-5eba52195997\n",
    "\n",
    "https://lightgbm.readthedocs.io/en/latest/pythonapi/lightgbm.LGBMClassifier.html\n",
    "\n",
    "\n",
    "Auc Roc\n",
    "\n",
    "https://www.analyticsvidhya.com/blog/2020/06/auc-roc-curve-machine-learning/\n",
    "\n",
    "https://scikit-learn.org/stable/modules/generated/sklearn.metrics.auc.html\n",
    "\n",
    "https://towardsdatascience.com/understanding-auc-roc-curve-68b2303cc9c5\n",
    "\n"
   ]
  },
  {
   "cell_type": "code",
   "execution_count": null,
   "id": "d1d1d8ef",
   "metadata": {},
   "outputs": [],
   "source": []
  }
 ],
 "metadata": {
  "kernelspec": {
   "display_name": "Python 3 (ipykernel)",
   "language": "python",
   "name": "python3"
  },
  "language_info": {
   "codemirror_mode": {
    "name": "ipython",
    "version": 3
   },
   "file_extension": ".py",
   "mimetype": "text/x-python",
   "name": "python",
   "nbconvert_exporter": "python",
   "pygments_lexer": "ipython3",
   "version": "3.10.6"
  },
  "toc": {
   "base_numbering": 1,
   "nav_menu": {},
   "number_sections": true,
   "sideBar": true,
   "skip_h1_title": false,
   "title_cell": "Table of Contents",
   "title_sidebar": "Contents",
   "toc_cell": true,
   "toc_position": {},
   "toc_section_display": true,
   "toc_window_display": true
  }
 },
 "nbformat": 4,
 "nbformat_minor": 5
}
